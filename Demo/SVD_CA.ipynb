{
  "nbformat": 4,
  "nbformat_minor": 0,
  "metadata": {
    "colab": {
      "provenance": []
    },
    "kernelspec": {
      "name": "python3",
      "display_name": "Python 3"
    },
    "language_info": {
      "name": "python"
    }
  },
  "cells": [
    {
      "cell_type": "markdown",
      "source": [
        "## Implementation of SVD in Python"
      ],
      "metadata": {
        "id": "mjGmZwQE-8wo"
      }
    },
    {
      "cell_type": "markdown",
      "source": [
        "### 1. Using Numpy to implement full matrix SVD"
      ],
      "metadata": {
        "id": "MqSYO33__IyV"
      }
    },
    {
      "cell_type": "code",
      "source": [
        "import numpy as np\n",
        " \n",
        "#Creating a matrix A\n",
        "A = np.array([[3,2,2],[2,3,-2]])\n",
        " \n",
        "#Performing SVD\n",
        "U, D, VT = np.linalg.svd(A)\n",
        "m, n = A.shape\n",
        "A_remake = U[:,:n] @ np.diag(D) @ VT[:m,:]\n",
        "\n",
        "#Checking if we can remake the original matrix using U,D,VT\n",
        "print('U: ', U, '\\n')\n",
        "print('D: ', D, '\\n')\n",
        "print('V^T: ', VT, '\\n')\n",
        "print('The Matrix:', A_remake)"
      ],
      "metadata": {
        "id": "0ooVcRWW2nql",
        "colab": {
          "base_uri": "https://localhost:8080/"
        },
        "outputId": "75168d0e-acc8-4b6a-a818-d849a221086e"
      },
      "execution_count": 1,
      "outputs": [
        {
          "output_type": "stream",
          "name": "stdout",
          "text": [
            "U:  [[-0.70710678 -0.70710678]\n",
            " [-0.70710678  0.70710678]] \n",
            "\n",
            "D:  [5. 3.] \n",
            "\n",
            "V^T:  [[-7.07106781e-01 -7.07106781e-01 -6.47932334e-17]\n",
            " [-2.35702260e-01  2.35702260e-01 -9.42809042e-01]\n",
            " [-6.66666667e-01  6.66666667e-01  3.33333333e-01]] \n",
            "\n",
            "The Matrix: [[ 3.  2.  2.]\n",
            " [ 2.  3. -2.]]\n"
          ]
        }
      ]
    },
    {
      "cell_type": "markdown",
      "source": [
        "### 2. Using scikit-learn to implement Truncated SVD"
      ],
      "metadata": {
        "id": "PZMhPGGO_93w"
      }
    },
    {
      "cell_type": "code",
      "source": [
        "#Importing required modules\n",
        "import numpy as np\n",
        "from sklearn.decomposition import TruncatedSVD\n",
        " \n",
        "#Creating array \n",
        "A = np.array([[3,4,3],[1,2,3],[4,2,1]])\n",
        " \n",
        "#Fitting the SVD class\n",
        "trun_svd =  TruncatedSVD(n_components = 2)\n",
        "A_transformed = trun_svd.fit_transform(A)\n",
        " \n",
        "#Printing the transformed matrix\n",
        "print(\"Transformed Matrix:\")\n",
        "print(A_transformed)"
      ],
      "metadata": {
        "colab": {
          "base_uri": "https://localhost:8080/"
        },
        "id": "9XRC5KQm_5jR",
        "outputId": "b70ef04c-71aa-463a-9037-a8e1393b538d"
      },
      "execution_count": 2,
      "outputs": [
        {
          "output_type": "stream",
          "name": "stdout",
          "text": [
            "Transformed Matrix:\n",
            "[[ 5.7942733  -0.46723885]\n",
            " [ 3.3604414  -1.58000033]\n",
            " [ 4.14622666  1.93351902]]\n"
          ]
        }
      ]
    },
    {
      "cell_type": "markdown",
      "source": [],
      "metadata": {
        "id": "ujeY1m1gGCyY"
      }
    }
  ]
}